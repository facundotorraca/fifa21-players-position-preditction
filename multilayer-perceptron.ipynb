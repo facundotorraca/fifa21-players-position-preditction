{
 "cells": [
  {
   "cell_type": "code",
   "execution_count": 152,
   "id": "3c3ee8ea-18d7-437f-92dd-1380b76bbfde",
   "metadata": {},
   "outputs": [],
   "source": [
    "import pandas as pd\n",
    "import numpy as np\n",
    "import seaborn as sns\n",
    "import matplotlib.pyplot as plt\n",
    "from matplotlib import colors as mcolors\n",
    "\n",
    "import numpy as np\n",
    "from sklearn import preprocessing\n",
    "from sklearn.metrics import accuracy_score\n",
    "from sklearn.model_selection import train_test_split"
   ]
  },
  {
   "cell_type": "code",
   "execution_count": 153,
   "id": "cfc6ecbc-b487-461c-a2d3-28d4fbf67ab8",
   "metadata": {},
   "outputs": [],
   "source": [
    "CSV_FILE_NAME = 'processed.csv'\n",
    "TARGET = 'BP'"
   ]
  },
  {
   "cell_type": "code",
   "execution_count": 154,
   "id": "2fe7e91d-4eb7-492e-a906-5708803c7e02",
   "metadata": {},
   "outputs": [],
   "source": [
    "df = pd.read_csv(CSV_FILE_NAME, low_memory=False)"
   ]
  },
  {
   "cell_type": "code",
   "execution_count": 155,
   "id": "551df7ce-c680-45dd-9ff1-265d2224ff70",
   "metadata": {},
   "outputs": [],
   "source": [
    "POSITIONS = list(set(df[TARGET]))"
   ]
  },
  {
   "cell_type": "code",
   "execution_count": 156,
   "id": "d63d53bc-80e1-4b2f-aba3-972d1fac1d78",
   "metadata": {},
   "outputs": [],
   "source": [
    "positions_map = {}\n",
    "for i,position in enumerate(POSITIONS):\n",
    "    positions_map[position]=i"
   ]
  },
  {
   "cell_type": "markdown",
   "id": "c1872254-7c70-4562-8f25-463b3e415352",
   "metadata": {},
   "source": [
    "## Classifier"
   ]
  },
  {
   "cell_type": "code",
   "execution_count": 157,
   "id": "84eef2f1-58f1-4dd1-a459-d049e7f0be4c",
   "metadata": {},
   "outputs": [],
   "source": [
    "from sklearn.neural_network import MLPClassifier\n",
    "from sklearn.datasets import make_classification\n",
    "from sklearn.model_selection import train_test_split"
   ]
  },
  {
   "cell_type": "code",
   "execution_count": 158,
   "id": "f2748604-3ce7-4696-ba06-040b43c8638f",
   "metadata": {},
   "outputs": [],
   "source": [
    "#One hot encode\n",
    "ohe_foot =  pd.get_dummies(df['foot'])\n",
    "\n",
    "df['foot_left'] = ohe_foot['Left']\n",
    "df['foot_right'] = ohe_foot['Right']\n",
    "\n",
    "ohe_weak_foot = pd.get_dummies(df['W/F'])\n",
    "\n",
    "df['WF_left'] = ohe_foot['Left']\n",
    "df['WF_right'] = ohe_foot['Right']"
   ]
  },
  {
   "cell_type": "code",
   "execution_count": 159,
   "id": "3eb1f7df-d67e-4170-a715-acb545bd8477",
   "metadata": {},
   "outputs": [],
   "source": [
    "df['Attacking'] = df['Attacking'] / 5\n",
    "df['Skill'] = df['Skill'] / 5\n",
    "df['Movement'] = df['Movement'] / 5\n",
    "df['Power'] = df['Power'] / 5\n",
    "df['Mentality'] = df['Mentality'] / 6\n",
    "df['Defending'] = df['Mentality'] / 3\n",
    "df['Goalkeeping'] = df['Goalkeeping'] / 5"
   ]
  },
  {
   "cell_type": "code",
   "execution_count": 170,
   "id": "03bb470f-dc73-4052-9c06-208f35c3af0c",
   "metadata": {},
   "outputs": [],
   "source": [
    "columns_to_use = [\n",
    "    'Height',\n",
    "    'Weight',\n",
    "    'Age',\n",
    "    'OVA', \n",
    "    'POT', \n",
    "    #'BOV', \n",
    "    'Growth',\n",
    "    \n",
    "    #'Attacking', \n",
    "    'Crossing', 'Finishing', 'Heading Accuracy', 'Short Passing', 'Volleys', \n",
    "    \n",
    "    #'Skill', \n",
    "    'Dribbling', 'Curve', 'FK Accuracy', 'Long Passing', 'Ball Control', \n",
    "    \n",
    "    #'Movement', \n",
    "    'Acceleration', 'Sprint Speed', 'Agility', 'Reactions', 'Balance',\n",
    "    \n",
    "    #'Power',\n",
    "    'Shot Power', 'Jumping', 'Stamina', 'Strength', 'Long Shots',\n",
    "    \n",
    "    #'Mentality',\n",
    "    'Aggression', 'Interceptions', 'Positioning', 'Vision', 'Penalties', 'Composure',\n",
    "   \n",
    "    #'Defending',\n",
    "    'Marking', 'Standing Tackle', 'Sliding Tackle', \n",
    "    \n",
    "    #'Goalkeeping',\n",
    "    #'GK Diving', 'GK Handling', 'GK Kicking', 'GK Positioning', 'GK Reflexes',\n",
    "    \n",
    "    'WF_left','WF_right',\n",
    "    'foot_left','foot_right',\n",
    "    \n",
    "    'PAC', \n",
    "    'SHO', 'PAS', \n",
    "    'DRI', 'DEF', 'PHY'\n",
    "]\n",
    "\n",
    "X = df[columns_to_use]\n",
    "y = df[TARGET]\n",
    "\n",
    "X_train, X_validation, y_train, y_validation = train_test_split(X, y, train_size=0.7, random_state=1234)"
   ]
  },
  {
   "cell_type": "code",
   "execution_count": 171,
   "id": "f52db74b-6083-4995-829c-8a3eb3a12a8e",
   "metadata": {},
   "outputs": [
    {
     "data": {
      "text/plain": [
       "0.8147138964577657"
      ]
     },
     "execution_count": 171,
     "metadata": {},
     "output_type": "execute_result"
    }
   ],
   "source": [
    "model = MLPClassifier(\n",
    "    random_state=1, \n",
    "    max_iter=200,\n",
    "    learning_rate_init=0.005,\n",
    "    hidden_layer_sizes=(100,110),\n",
    "    activation='relu',\n",
    "    solver='adam'\n",
    ")\n",
    "\n",
    "# train the model\n",
    "model.fit(X_train, y_train)\n",
    "\n",
    "# make the prediction using the resulting model\n",
    "preds_class = model.predict(X_validation)\n",
    "\n",
    "accuracy_score(preds_class, y_validation)"
   ]
  },
  {
   "cell_type": "code",
   "execution_count": null,
   "id": "dec67111-764b-4b66-8821-dcb0e34df7bf",
   "metadata": {},
   "outputs": [],
   "source": []
  }
 ],
 "metadata": {
  "kernelspec": {
   "display_name": "Python 3 (ipykernel)",
   "language": "python",
   "name": "python3"
  },
  "language_info": {
   "codemirror_mode": {
    "name": "ipython",
    "version": 3
   },
   "file_extension": ".py",
   "mimetype": "text/x-python",
   "name": "python",
   "nbconvert_exporter": "python",
   "pygments_lexer": "ipython3",
   "version": "3.10.1"
  }
 },
 "nbformat": 4,
 "nbformat_minor": 5
}
