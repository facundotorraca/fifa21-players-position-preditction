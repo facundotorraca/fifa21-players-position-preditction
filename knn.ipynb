{
 "cells": [
  {
   "cell_type": "markdown",
   "id": "88db86d6-6121-4a40-801e-b8bb86817e8e",
   "metadata": {},
   "source": [
    "# KNN"
   ]
  },
  {
   "cell_type": "code",
   "execution_count": 49,
   "id": "b1b9da5a-f379-4beb-ad9c-76ba99cb0a0f",
   "metadata": {},
   "outputs": [],
   "source": [
    "import pandas as pd\n",
    "import numpy as np\n",
    "import seaborn as sns\n",
    "import matplotlib.pyplot as plt\n",
    "from matplotlib import colors as mcolors\n",
    "from matplotlib.colors import ListedColormap\n",
    "\n",
    "import numpy as np\n",
    "from sklearn import preprocessing\n",
    "from sklearn.metrics import accuracy_score\n",
    "from sklearn.model_selection import train_test_split"
   ]
  },
  {
   "cell_type": "code",
   "execution_count": 50,
   "id": "3a491f5f-502c-4a3a-b76b-e2d1d7a2164b",
   "metadata": {},
   "outputs": [],
   "source": [
    "CSV_FILE_NAME = 'processed.csv'\n",
    "TARGET = 'BP'"
   ]
  },
  {
   "cell_type": "code",
   "execution_count": 51,
   "id": "62816083-c4f6-4484-9c19-a0ce2c47bec8",
   "metadata": {},
   "outputs": [],
   "source": [
    "df = pd.read_csv(CSV_FILE_NAME, low_memory=False)"
   ]
  },
  {
   "cell_type": "code",
   "execution_count": 52,
   "id": "69ea7c57-f5c7-482e-a124-1d2bd2c4aff0",
   "metadata": {},
   "outputs": [],
   "source": [
    "POSITIONS = list(set(df[TARGET]))"
   ]
  },
  {
   "cell_type": "code",
   "execution_count": 53,
   "id": "6193ee44-8cb7-4534-a4c4-819985da92d2",
   "metadata": {},
   "outputs": [],
   "source": [
    "positions_map = {}\n",
    "for i,position in enumerate(POSITIONS):\n",
    "    positions_map[position]=i"
   ]
  },
  {
   "cell_type": "markdown",
   "id": "a1d61c84-dcec-4942-a5e3-cfc5d5267c7e",
   "metadata": {},
   "source": [
    "## KNN-Classifier"
   ]
  },
  {
   "cell_type": "code",
   "execution_count": 54,
   "id": "a269cb5d-1ec9-491d-9d1f-2e3f73428224",
   "metadata": {},
   "outputs": [],
   "source": [
    "from sklearn.neighbors import KNeighborsClassifier"
   ]
  },
  {
   "cell_type": "code",
   "execution_count": 87,
   "id": "3641659b-0a17-48b2-82e6-1b0b575f196d",
   "metadata": {},
   "outputs": [],
   "source": [
    "columns_to_use = [\n",
    "    'POT', 'Height', 'Weight',\n",
    "    \n",
    "    'Attacking', 'Crossing', 'Finishing', 'Heading Accuracy', 'Short Passing', 'Volleys', \n",
    "    'Skill', 'Dribbling', 'Curve', 'FK Accuracy', 'Long Passing', 'Ball Control', \n",
    "    'Movement', 'Acceleration', 'Sprint Speed', 'Agility', 'Reactions', 'Balance',\n",
    "    'Power', 'Shot Power', 'Jumping', 'Stamina', 'Strength', 'Long Shots',\n",
    "    'Mentality', #'Aggression', 'Interceptions', 'Positioning', 'Vision', 'Penalties', 'Composure',\n",
    "    'Defending', 'Marking', 'Standing Tackle', 'Sliding Tackle', \n",
    "]\n",
    "\n",
    "categoriacal_features = [] #['foot'] #['foot', 'W/F']\n",
    "\n",
    "X = df[columns_to_use]\n",
    "y = df[TARGET]\n",
    "\n",
    "X_train, X_validation, y_train, y_validation = train_test_split(X, y, train_size=0.7, random_state=1234)"
   ]
  },
  {
   "cell_type": "code",
   "execution_count": 88,
   "id": "270928be-094f-4e3f-8bf2-7f708a13c6bc",
   "metadata": {},
   "outputs": [
    {
     "name": "stdout",
     "output_type": "stream",
     "text": [
      "Accuracy of K-NN classifier on training set: 0.723617252023025\n",
      "Accuracy of K-NN classifier on test set: 0.6601790579992215\n"
     ]
    }
   ],
   "source": [
    "n_neighbors = 10\n",
    " \n",
    "knn = KNeighborsClassifier(n_neighbors)\n",
    "knn.fit(X_train, y_train)\n",
    "\n",
    "print(f\"Accuracy of K-NN classifier on training set: {knn.score(X_train, y_train)}\")\n",
    "print(f\"Accuracy of K-NN classifier on test set: {knn.score(X_validation, y_validation)}\")\n",
    "\n",
    "pred = knn.predict(X_validation)"
   ]
  }
 ],
 "metadata": {
  "kernelspec": {
   "display_name": "Python 3 (ipykernel)",
   "language": "python",
   "name": "python3"
  },
  "language_info": {
   "codemirror_mode": {
    "name": "ipython",
    "version": 3
   },
   "file_extension": ".py",
   "mimetype": "text/x-python",
   "name": "python",
   "nbconvert_exporter": "python",
   "pygments_lexer": "ipython3",
   "version": "3.10.1"
  }
 },
 "nbformat": 4,
 "nbformat_minor": 5
}
