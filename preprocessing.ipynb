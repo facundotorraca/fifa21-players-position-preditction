{
 "cells": [
  {
   "cell_type": "code",
   "execution_count": 130,
   "id": "5c080ae4-7787-4bd4-825b-e0c5fd154513",
   "metadata": {},
   "outputs": [],
   "source": [
    "import pandas as pd\n",
    "import numpy as np"
   ]
  },
  {
   "cell_type": "code",
   "execution_count": 131,
   "id": "ada4dfd5-358c-40c9-adf1-ee10b691c606",
   "metadata": {},
   "outputs": [],
   "source": [
    "CSV_FILE_NAME = 'fifa21_male2.csv'\n",
    "CSV_OUTPUT_NAME = 'processed.csv'"
   ]
  },
  {
   "cell_type": "code",
   "execution_count": 132,
   "id": "f7398026-dd4e-4cc7-97d8-eaf45ff56941",
   "metadata": {},
   "outputs": [],
   "source": [
    "df = pd.read_csv(CSV_FILE_NAME, low_memory=False)"
   ]
  },
  {
   "cell_type": "markdown",
   "id": "39dfb338-31b7-4834-a029-e3b97c0f8729",
   "metadata": {},
   "source": [
    "# Limpieza de datos"
   ]
  },
  {
   "cell_type": "code",
   "execution_count": 133,
   "id": "4f282ba4-fcec-43a3-afbc-fcbb721dae97",
   "metadata": {},
   "outputs": [],
   "source": [
    "columns_to_remove = [\n",
    "    # Primero vamos a remover las columnas que no tienen aporte \n",
    "    # a nuestro modelo, como por ejemplo el ID, nombre, etc\n",
    "    # Son nombres o informacion muy especifica del jugador en si, que \n",
    "    # no estan relacionaddas con su posicion\"\n",
    "    #\n",
    "    # Nota -> Sacamos posicion porque es una lista de las posiciones que \n",
    "    # juega actualmente el jugador y creemos que puede generar un overfitting\n",
    "    # del modelo                    \n",
    "    \"ID\", \"Name\", \"Club\", \"Player Photo\", \"Position\",\n",
    "    \"Club Logo\", \"Flag Photo\", \"Team & Contract\", \"Joined\", \n",
    "    \"Loan Date End\", \"Value\", \"Wage\", \"Release Clause\", \"Contract\",\n",
    "\n",
    "    # eliminamos de la columna 65 a la 91 que es un desgloce del desemppeño de cada \n",
    "    # jugador en cada posicion. Esto obviamente no es relevante en nuestro modelo, ya que \n",
    "    # es justamente lo que necesitamos predecir.                   \n",
    "    \"LS\",\"ST\",\"RS\",\"LW\",\"LF\", \"CF\",\"RF\",\n",
    "    \"RW\",\"LAM\",\"CAM\",\"RAM\",\"LM\",\"LCM\",\"CM\",\n",
    "    \"RCM\",\"RM\", \"LWB\", \"LDM\", \"CDM\",\"RDM\",\n",
    "    \"RWB\", \"LB\", \"LCB\",\"CB\",\"RCB\",\"RB\",\"GK\"\n",
    "]"
   ]
  },
  {
   "cell_type": "code",
   "execution_count": 134,
   "id": "949fcf29-bd6e-499b-bad4-442a589cde48",
   "metadata": {},
   "outputs": [],
   "source": [
    "for column in columns_to_remove:\n",
    "    del df[column]"
   ]
  },
  {
   "cell_type": "code",
   "execution_count": 135,
   "id": "71b57607-30c4-45c6-9d89-d5b3bd8cb59d",
   "metadata": {},
   "outputs": [
    {
     "name": "stdout",
     "output_type": "stream",
     "text": [
      "Volleys - 58 NAN's - Filling value: 45.00574207535009\n",
      "Curve - 58 NAN's - Filling value: 49.57467627585399\n",
      "Agility - 58 NAN's - Filling value: 64.60227339309779\n",
      "Balance - 58 NAN's - Filling value: 64.71559149235367\n",
      "Jumping - 58 NAN's - Filling value: 65.17021151930626\n",
      "Interceptions - 7 NAN's - Filling value: 47.08558242785372\n",
      "Positioning - 7 NAN's - Filling value: 52.372765509989485\n",
      "Vision - 58 NAN's - Filling value: 55.44360461709732\n",
      "Composure - 423 NAN's - Filling value: 59.94096515387379\n",
      "Sliding Tackle - 58 NAN's - Filling value: 46.09972461475362\n",
      "A/W - 89 NAN's - Filling value: Medium\n",
      "D/W - 89 NAN's - Filling value: Medium\n"
     ]
    }
   ],
   "source": [
    "# dictionary {\"column_name\", \"filling_value\"}\n",
    "filling_values = {}\n",
    "\n",
    "# de las columnas que quedan, analizamos cuales cuantos nulls hay\n",
    "for column in df.columns:\n",
    "    nans_count = df[column].isna().sum()\n",
    "    if nans_count > 0:\n",
    "        filling_value = None\n",
    "        # si la columna es categorica,\n",
    "        # completamos con la mode\n",
    "        if df.dtypes[column] == \"object\":\n",
    "            mode = df[column].mode()\n",
    "            filling_value = mode[0] \n",
    "        # si los valores son numericos\n",
    "        # completamos con la media\n",
    "        else:\n",
    "            mean = df[column].mean()\n",
    "            filling_value = mean\n",
    "        \n",
    "        print(f\"{column} - {nans_count} NAN's - Filling value: {filling_value}\")\n",
    "        df[column].fillna(filling_value, inplace=True)\n",
    "\n",
    "# assert that the sum of nans of total nans\n",
    "# for each column is 0\n",
    "assert(df.isna().sum().sum() == 0)"
   ]
  },
  {
   "cell_type": "markdown",
   "id": "24b51787-a0b4-43bc-b355-4b988f22f88f",
   "metadata": {},
   "source": [
    "# Preprocessing"
   ]
  },
  {
   "cell_type": "markdown",
   "id": "f01063da-01e4-442a-a645-e1a7f9a7fc32",
   "metadata": {},
   "source": [
    "* #### Heigh - pass feets to cms"
   ]
  },
  {
   "cell_type": "code",
   "execution_count": 136,
   "id": "088e7baa-f9a7-410e-a97c-8f0e688d5a89",
   "metadata": {},
   "outputs": [],
   "source": [
    "def ft_to_cm(meassure):    \n",
    "    \"\"\"\n",
    "    Recives a messure with the following format:\n",
    "    F'I\" where F is the total foots and I are\n",
    "    the total inches.\n",
    "    Ex: 5'9\" (5 foots and 9 inches)\n",
    "    \"\"\"\n",
    "    FOOT_TO_CM_PROPORTION = 30.48\n",
    "    INCH_TO_CM_PROPORTION = 2.54\n",
    "\n",
    "    split = meassure.split(\"'\")\n",
    "    foots = int(split[0])\n",
    "    inches = int(split[1][:-1])\n",
    "    \n",
    "    height_in_cm = foots * FOOT_TO_CM_PROPORTION +\\\n",
    "                   inches * INCH_TO_CM_PROPORTION\n",
    "    \n",
    "    return round(height_in_cm, 2)\n",
    "\n",
    "heights_in_cm = df.apply(lambda r: ft_to_cm(r['Height']), axis=1)\n",
    "df['Height'] = heights_in_cm"
   ]
  },
  {
   "cell_type": "markdown",
   "id": "6e375afb-32d3-4b83-97d9-78bd4a083c1c",
   "metadata": {},
   "source": [
    "* #### Weight - pass libras to kilograms"
   ]
  },
  {
   "cell_type": "code",
   "execution_count": 137,
   "id": "8303239a-919d-4d13-bfaf-d6761cef2b17",
   "metadata": {},
   "outputs": [],
   "source": [
    "def lb_to_kg(meassure):    \n",
    "    \"\"\"\n",
    "    Recives a messure with the following format:\n",
    "    Nlbs where N is the weigth in libras\n",
    "    Ex: 159lbs\n",
    "    \"\"\"\n",
    "    LB_TO_KG_PROPORTION = 0.453592\n",
    "    \n",
    "    split = meassure.split(\"lbs\")\n",
    "    lbs = int(split[0])\n",
    "    \n",
    "    weight_in_kg = lbs * LB_TO_KG_PROPORTION\n",
    "    \n",
    "    return round(weight_in_kg, 2)\n",
    "\n",
    "weights_in_kg = df.apply(lambda r: lb_to_kg(r['Weight']), axis=1)\n",
    "df['Weight'] = weights_in_kg"
   ]
  },
  {
   "cell_type": "markdown",
   "id": "31870ae0-c4a1-4b51-bc55-13dbcdf904ce",
   "metadata": {},
   "source": [
    "* #### Hits - transform to integer"
   ]
  },
  {
   "cell_type": "code",
   "execution_count": 138,
   "id": "b119c3de-7fff-4b15-872a-f6e54e38c0b1",
   "metadata": {},
   "outputs": [],
   "source": [
    "def hit_to_int(hit):\n",
    "    multiplier = 1.0\n",
    "\n",
    "    if 'K' in hit:\n",
    "        hit = hit.split('K')[0]\n",
    "        multiplier = 1000.0\n",
    "    \n",
    "    if 'k' in hit:\n",
    "        hit = hit.split('k')[0]\n",
    "        multiplier = 1000.0\n",
    "    \n",
    "    return float(hit) * multiplier\n",
    "    \n",
    "hits_as_numeric = df.apply(lambda r: hit_to_int(r['Hits']), axis=1)\n",
    "df['Hits'] = hits_as_numeric "
   ]
  },
  {
   "cell_type": "markdown",
   "id": "c4824eea-f446-4f57-9240-f2c0781e6ced",
   "metadata": {},
   "source": [
    "* #### remove ★ icons from columns"
   ]
  },
  {
   "cell_type": "code",
   "execution_count": 139,
   "id": "60f645b0-4f01-4f88-b0bb-626918f1d724",
   "metadata": {},
   "outputs": [],
   "source": [
    "def remove_star(messure):\n",
    "    \"\"\"\n",
    "    receive a messure with the followign format:\n",
    "    \"1 ★\" and transform it to an integer \n",
    "    \"\"\"\n",
    "    messure_without_star = messure.replace('★', '')\n",
    "    return int(messure_without_star)\n",
    "\n",
    "df['SM'] = df.apply(lambda r: remove_star(r['SM']), axis=1)\n",
    "df['IR'] = df.apply(lambda r: remove_star(r['IR']), axis=1)\n",
    "df['W/F'] = df.apply(lambda r: remove_star(r['W/F']), axis=1)"
   ]
  },
  {
   "cell_type": "markdown",
   "id": "e51dcc81-20d5-4b81-a3fc-515cddca3685",
   "metadata": {},
   "source": [
    "# Save processed CSV"
   ]
  },
  {
   "cell_type": "code",
   "execution_count": 140,
   "id": "3832210d-1d56-4c48-877b-2590054ef6d0",
   "metadata": {},
   "outputs": [],
   "source": [
    "df.to_csv(CSV_OUTPUT_NAME, index=False)"
   ]
  }
 ],
 "metadata": {
  "kernelspec": {
   "display_name": "Python 3 (ipykernel)",
   "language": "python",
   "name": "python3"
  },
  "language_info": {
   "codemirror_mode": {
    "name": "ipython",
    "version": 3
   },
   "file_extension": ".py",
   "mimetype": "text/x-python",
   "name": "python",
   "nbconvert_exporter": "python",
   "pygments_lexer": "ipython3",
   "version": "3.10.1"
  }
 },
 "nbformat": 4,
 "nbformat_minor": 5
}
