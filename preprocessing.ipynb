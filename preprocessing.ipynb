{
 "cells": [
  {
   "cell_type": "code",
   "execution_count": 1,
   "id": "5c080ae4-7787-4bd4-825b-e0c5fd154513",
   "metadata": {},
   "outputs": [],
   "source": [
    "import pandas as pd\n",
    "import numpy as np"
   ]
  },
  {
   "cell_type": "code",
   "execution_count": 2,
   "id": "ada4dfd5-358c-40c9-adf1-ee10b691c606",
   "metadata": {},
   "outputs": [],
   "source": [
    "CSV_FILE_NAME = 'fifa21_male2.csv'\n",
    "CSV_OUTPUT_NAME = 'processed.csv'"
   ]
  },
  {
   "cell_type": "code",
   "execution_count": 3,
   "id": "f7398026-dd4e-4cc7-97d8-eaf45ff56941",
   "metadata": {},
   "outputs": [],
   "source": [
    "df = pd.read_csv(CSV_FILE_NAME, low_memory=False)"
   ]
  },
  {
   "cell_type": "markdown",
   "id": "24b51787-a0b4-43bc-b355-4b988f22f88f",
   "metadata": {},
   "source": [
    "# Preprocessing"
   ]
  },
  {
   "cell_type": "markdown",
   "id": "f01063da-01e4-442a-a645-e1a7f9a7fc32",
   "metadata": {},
   "source": [
    "* #### Heigh - pass feets to cms"
   ]
  },
  {
   "cell_type": "code",
   "execution_count": 16,
   "id": "088e7baa-f9a7-410e-a97c-8f0e688d5a89",
   "metadata": {},
   "outputs": [],
   "source": [
    "def ft_to_cm(meassure):    \n",
    "    \"\"\"\n",
    "    Recives a messure with the following format:\n",
    "    F'I\" where F is the total foots and I are\n",
    "    the total inches.\n",
    "    Ex: 5'9\" (5 foots and 9 inches)\n",
    "    \"\"\"\n",
    "    FOOT_TO_CM_PROPORTION = 30.48\n",
    "    INCH_TO_CM_PROPORTION = 2.54\n",
    "\n",
    "    split = meassure.split(\"'\")\n",
    "    foots = int(split[0])\n",
    "    inches = int(split[1][:-1])\n",
    "    \n",
    "    height_in_cm = foots * FOOT_TO_CM_PROPORTION +\\\n",
    "                   inches * INCH_TO_CM_PROPORTION\n",
    "    \n",
    "    return round(height_in_cm, 2)\n",
    "\n",
    "heights_in_cm = df.apply(lambda r: ft_to_cm(r['Height']), axis=1)\n",
    "df['Height'] = heights_in_cm"
   ]
  },
  {
   "cell_type": "markdown",
   "id": "6e375afb-32d3-4b83-97d9-78bd4a083c1c",
   "metadata": {},
   "source": [
    "* #### Weight - pass libras to kilograms"
   ]
  },
  {
   "cell_type": "code",
   "execution_count": 17,
   "id": "8303239a-919d-4d13-bfaf-d6761cef2b17",
   "metadata": {},
   "outputs": [],
   "source": [
    "def lb_to_kg(meassure):    \n",
    "    \"\"\"\n",
    "    Recives a messure with the following format:\n",
    "    Nlbs where N is the weigth in libras\n",
    "    Ex: 159lbs\n",
    "    \"\"\"\n",
    "    LB_TO_KG_PROPORTION = 0.453592\n",
    "    \n",
    "    split = meassure.split(\"lbs\")\n",
    "    lbs = int(split[0])\n",
    "    \n",
    "    weight_in_kg = lbs * LB_TO_KG_PROPORTION\n",
    "    \n",
    "    return round(weight_in_kg, 2)\n",
    "\n",
    "weights_in_kg = df.apply(lambda r: lb_to_kg(r['Weight']), axis=1)\n",
    "df['Weight'] = weights_in_kg"
   ]
  },
  {
   "cell_type": "markdown",
   "id": "31870ae0-c4a1-4b51-bc55-13dbcdf904ce",
   "metadata": {},
   "source": [
    "* #### Hits - transform to integer"
   ]
  },
  {
   "cell_type": "code",
   "execution_count": 18,
   "id": "b119c3de-7fff-4b15-872a-f6e54e38c0b1",
   "metadata": {},
   "outputs": [],
   "source": [
    "def hit_to_int(hit):\n",
    "    multiplier = 1.0\n",
    "\n",
    "    if 'K' in hit:\n",
    "        hit = hit.split('K')[0]\n",
    "        multiplier = 1000.0\n",
    "    \n",
    "    if 'k' in hit:\n",
    "        hit = hit.split('k')[0]\n",
    "        multiplier = 1000.0\n",
    "    \n",
    "   \n",
    "    return float(hit) * multiplier\n",
    "    \n",
    "hits_as_numeric = df.apply(lambda r: hit_to_int(r['Hits']), axis=1)\n",
    "df['Hits'] = hits_as_numeric "
   ]
  },
  {
   "cell_type": "markdown",
   "id": "e51dcc81-20d5-4b81-a3fc-515cddca3685",
   "metadata": {},
   "source": [
    "# Save processed CSV"
   ]
  },
  {
   "cell_type": "code",
   "execution_count": 19,
   "id": "3832210d-1d56-4c48-877b-2590054ef6d0",
   "metadata": {},
   "outputs": [],
   "source": [
    "df.to_csv(CSV_OUTPUT_NAME, index=False)"
   ]
  }
 ],
 "metadata": {
  "kernelspec": {
   "display_name": "Python 3 (ipykernel)",
   "language": "python",
   "name": "python3"
  },
  "language_info": {
   "codemirror_mode": {
    "name": "ipython",
    "version": 3
   },
   "file_extension": ".py",
   "mimetype": "text/x-python",
   "name": "python",
   "nbconvert_exporter": "python",
   "pygments_lexer": "ipython3",
   "version": "3.9.5"
  }
 },
 "nbformat": 4,
 "nbformat_minor": 5
}
